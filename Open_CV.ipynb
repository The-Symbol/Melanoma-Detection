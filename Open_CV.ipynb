{
 "cells": [
  {
   "cell_type": "code",
   "execution_count": 1,
   "id": "9c2877ab",
   "metadata": {},
   "outputs": [],
   "source": [
    "#Reading an image\n",
    "#Extracting the RGB values of a pixel\n",
    "#Extracting the Region of Interest (ROI)\n",
    "#Resizing the Image\n",
    "#Rotating the Image\n",
    "#Drawing a Rectangle\n",
    "#Displaying text\n",
    "\n",
    "import cv2 "
   ]
  },
  {
   "cell_type": "code",
   "execution_count": 6,
   "id": "4bd8583a",
   "metadata": {},
   "outputs": [],
   "source": [
    "img=cv2.imread(\"C:Users/Akshay/OneDrive/Desktop/next_gen_pro/Image_/aa.jpg\")"
   ]
  },
  {
   "cell_type": "code",
   "execution_count": 8,
   "id": "8a64a798",
   "metadata": {},
   "outputs": [
    {
     "ename": "AttributeError",
     "evalue": "'NoneType' object has no attribute 'shape'",
     "output_type": "error",
     "traceback": [
      "\u001b[1;31m---------------------------------------------------------------------------\u001b[0m",
      "\u001b[1;31mAttributeError\u001b[0m                            Traceback (most recent call last)",
      "\u001b[1;32m<ipython-input-8-0fe81380befd>\u001b[0m in \u001b[0;36m<module>\u001b[1;34m\u001b[0m\n\u001b[0;32m      4\u001b[0m \u001b[1;31m#Number of Channels :  4\u001b[0m\u001b[1;33m\u001b[0m\u001b[1;33m\u001b[0m\u001b[0m\n\u001b[0;32m      5\u001b[0m \u001b[1;33m\u001b[0m\u001b[0m\n\u001b[1;32m----> 6\u001b[1;33m \u001b[0mimg\u001b[0m\u001b[1;33m.\u001b[0m\u001b[0mshape\u001b[0m\u001b[1;33m\u001b[0m\u001b[0m\n\u001b[0m",
      "\u001b[1;31mAttributeError\u001b[0m: 'NoneType' object has no attribute 'shape'"
     ]
    }
   ],
   "source": [
    "#Image Dimension    :  (149, 200, 4)\n",
    "#Image Height       :  149\n",
    "#Image Width        :  200\n",
    "#Number of Channels :  4\n",
    "\n",
    "img.shape"
   ]
  },
  {
   "cell_type": "code",
   "execution_count": 4,
   "id": "256b6e96",
   "metadata": {},
   "outputs": [
    {
     "ename": "error",
     "evalue": "OpenCV(4.6.0) D:\\a\\opencv-python\\opencv-python\\opencv\\modules\\highgui\\src\\window.cpp:967: error: (-215:Assertion failed) size.width>0 && size.height>0 in function 'cv::imshow'\n",
     "output_type": "error",
     "traceback": [
      "\u001b[1;31m---------------------------------------------------------------------------\u001b[0m",
      "\u001b[1;31merror\u001b[0m                                     Traceback (most recent call last)",
      "\u001b[1;32m<ipython-input-4-a5016cf3b5ed>\u001b[0m in \u001b[0;36m<module>\u001b[1;34m\u001b[0m\n\u001b[1;32m----> 1\u001b[1;33m \u001b[0mcv2\u001b[0m\u001b[1;33m.\u001b[0m\u001b[0mimshow\u001b[0m\u001b[1;33m(\u001b[0m\u001b[1;34m'rose'\u001b[0m\u001b[1;33m,\u001b[0m\u001b[0mimg\u001b[0m\u001b[1;33m)\u001b[0m\u001b[1;33m\u001b[0m\u001b[0m\n\u001b[0m\u001b[0;32m      2\u001b[0m \u001b[0mcv2\u001b[0m\u001b[1;33m.\u001b[0m\u001b[0mwaitKey\u001b[0m\u001b[1;33m(\u001b[0m\u001b[1;36m0\u001b[0m\u001b[1;33m)\u001b[0m\u001b[1;33m\u001b[0m\u001b[0m\n",
      "\u001b[1;31merror\u001b[0m: OpenCV(4.6.0) D:\\a\\opencv-python\\opencv-python\\opencv\\modules\\highgui\\src\\window.cpp:967: error: (-215:Assertion failed) size.width>0 && size.height>0 in function 'cv::imshow'\n"
     ]
    }
   ],
   "source": [
    "cv2.imshow('rose',img)\n",
    "cv2.waitKey(0)"
   ]
  },
  {
   "cell_type": "code",
   "execution_count": 5,
   "id": "352d6f6e",
   "metadata": {},
   "outputs": [
    {
     "ename": "error",
     "evalue": "OpenCV(4.6.0) D:\\a\\opencv-python\\opencv-python\\opencv\\modules\\imgcodecs\\src\\loadsave.cpp:801: error: (-215:Assertion failed) !_img.empty() in function 'cv::imwrite'\n",
     "output_type": "error",
     "traceback": [
      "\u001b[1;31m---------------------------------------------------------------------------\u001b[0m",
      "\u001b[1;31merror\u001b[0m                                     Traceback (most recent call last)",
      "\u001b[1;32m<ipython-input-5-7755fc389a6e>\u001b[0m in \u001b[0;36m<module>\u001b[1;34m\u001b[0m\n\u001b[1;32m----> 1\u001b[1;33m \u001b[0mcv2\u001b[0m\u001b[1;33m.\u001b[0m\u001b[0mimwrite\u001b[0m\u001b[1;33m(\u001b[0m\u001b[1;34m\"rose.jpg\"\u001b[0m\u001b[1;33m,\u001b[0m\u001b[0mimg\u001b[0m\u001b[1;33m)\u001b[0m\u001b[1;33m\u001b[0m\u001b[0m\n\u001b[0m",
      "\u001b[1;31merror\u001b[0m: OpenCV(4.6.0) D:\\a\\opencv-python\\opencv-python\\opencv\\modules\\imgcodecs\\src\\loadsave.cpp:801: error: (-215:Assertion failed) !_img.empty() in function 'cv::imwrite'\n"
     ]
    }
   ],
   "source": [
    "cv2.imwrite(\".jpg\",img)"
   ]
  },
  {
   "cell_type": "code",
   "execution_count": 11,
   "id": "5f6ca9c4",
   "metadata": {},
   "outputs": [
    {
     "ename": "error",
     "evalue": "OpenCV(4.6.0) D:\\a\\opencv-python\\opencv-python\\opencv\\modules\\imgproc\\src\\resize.cpp:4052: error: (-215:Assertion failed) !ssize.empty() in function 'cv::resize'\n",
     "output_type": "error",
     "traceback": [
      "\u001b[1;31m---------------------------------------------------------------------------\u001b[0m",
      "\u001b[1;31merror\u001b[0m                                     Traceback (most recent call last)",
      "\u001b[1;32m<ipython-input-11-2b0536dfe6a8>\u001b[0m in \u001b[0;36m<module>\u001b[1;34m\u001b[0m\n\u001b[0;32m      1\u001b[0m \u001b[1;31m#fx: Scale factor along the horizontal axis  [optional]\u001b[0m\u001b[1;33m\u001b[0m\u001b[1;33m\u001b[0m\u001b[0m\n\u001b[0;32m      2\u001b[0m \u001b[1;31m#fy: Scale factor along the vertical axis  [optional]\u001b[0m\u001b[1;33m\u001b[0m\u001b[1;33m\u001b[0m\u001b[0m\n\u001b[1;32m----> 3\u001b[1;33m \u001b[0mhalf\u001b[0m\u001b[1;33m=\u001b[0m\u001b[0mcv2\u001b[0m\u001b[1;33m.\u001b[0m\u001b[0mresize\u001b[0m\u001b[1;33m(\u001b[0m\u001b[0mimg\u001b[0m\u001b[1;33m,\u001b[0m\u001b[1;33m(\u001b[0m\u001b[1;36m0\u001b[0m\u001b[1;33m,\u001b[0m\u001b[1;36m0\u001b[0m\u001b[1;33m)\u001b[0m\u001b[1;33m,\u001b[0m\u001b[0mfx\u001b[0m\u001b[1;33m=\u001b[0m\u001b[1;36m0.5\u001b[0m\u001b[1;33m,\u001b[0m\u001b[0mfy\u001b[0m\u001b[1;33m=\u001b[0m\u001b[1;36m0.5\u001b[0m\u001b[1;33m)\u001b[0m\u001b[1;33m\u001b[0m\u001b[0m\n\u001b[0m",
      "\u001b[1;31merror\u001b[0m: OpenCV(4.6.0) D:\\a\\opencv-python\\opencv-python\\opencv\\modules\\imgproc\\src\\resize.cpp:4052: error: (-215:Assertion failed) !ssize.empty() in function 'cv::resize'\n"
     ]
    }
   ],
   "source": [
    "#fx: Scale factor along the horizontal axis  [optional]\n",
    "#fy: Scale factor along the vertical axis  [optional]\n",
    "half=cv2.resize(img,(0,0),fx=0.5,fy=0.5)"
   ]
  },
  {
   "cell_type": "code",
   "execution_count": 12,
   "id": "781c6cb8",
   "metadata": {},
   "outputs": [
    {
     "ename": "NameError",
     "evalue": "name 'half' is not defined",
     "output_type": "error",
     "traceback": [
      "\u001b[1;31m---------------------------------------------------------------------------\u001b[0m",
      "\u001b[1;31mNameError\u001b[0m                                 Traceback (most recent call last)",
      "\u001b[1;32m<ipython-input-12-abe12043703a>\u001b[0m in \u001b[0;36m<module>\u001b[1;34m\u001b[0m\n\u001b[1;32m----> 1\u001b[1;33m \u001b[0mcv2\u001b[0m\u001b[1;33m.\u001b[0m\u001b[0mimshow\u001b[0m\u001b[1;33m(\u001b[0m\u001b[1;34m'rose_resized'\u001b[0m\u001b[1;33m,\u001b[0m\u001b[0mhalf\u001b[0m\u001b[1;33m)\u001b[0m\u001b[1;33m\u001b[0m\u001b[0m\n\u001b[0m\u001b[0;32m      2\u001b[0m \u001b[0mcv2\u001b[0m\u001b[1;33m.\u001b[0m\u001b[0mwaitKey\u001b[0m\u001b[1;33m(\u001b[0m\u001b[1;36m0\u001b[0m\u001b[1;33m)\u001b[0m\u001b[1;33m\u001b[0m\u001b[0m\n",
      "\u001b[1;31mNameError\u001b[0m: name 'half' is not defined"
     ]
    }
   ],
   "source": [
    "cv2.imshow('rose_resized',half)\n",
    "cv2.waitKey(0)"
   ]
  },
  {
   "cell_type": "code",
   "execution_count": null,
   "id": "9a8ab972",
   "metadata": {},
   "outputs": [],
   "source": [
    "half.shape"
   ]
  },
  {
   "cell_type": "code",
   "execution_count": null,
   "id": "bb7056df",
   "metadata": {},
   "outputs": [],
   "source": [
    "bigger=cv2.resize(img,(500,500))\n",
    "cv2.imshow('rose_bigger',bigger)\n",
    "cv2.waitKey(0)"
   ]
  },
  {
   "cell_type": "code",
   "execution_count": null,
   "id": "ae8d2713",
   "metadata": {},
   "outputs": [],
   "source": [
    "stretch=cv2.resize(img,(199,670))"
   ]
  },
  {
   "cell_type": "code",
   "execution_count": null,
   "id": "1973f13b",
   "metadata": {},
   "outputs": [],
   "source": [
    "cv2.imshow('rose_stretch',stretch)\n",
    "cv2.waitKey(0)"
   ]
  },
  {
   "cell_type": "markdown",
   "id": "3e72b269",
   "metadata": {},
   "source": [
    "# GrayScale"
   ]
  },
  {
   "cell_type": "code",
   "execution_count": null,
   "id": "ec3e3da7",
   "metadata": {},
   "outputs": [],
   "source": [
    "# Use the cvtColor() function to grayscale the image\n",
    "gray_image = cv2.cvtColor(img, cv2.COLOR_BGR2GRAY)\n",
    "\n",
    "cv2.imshow('Grayscale_rose', gray_image)\n",
    "cv2.waitKey(0)\n"
   ]
  },
  {
   "cell_type": "markdown",
   "id": "97892fe1",
   "metadata": {},
   "source": [
    "# Colour Space"
   ]
  },
  {
   "cell_type": "code",
   "execution_count": null,
   "id": "b4fab3ca",
   "metadata": {},
   "outputs": [],
   "source": [
    "image=cv2.imread(\"C:\\\\Users\\\\Akshay\\\\OneDrive\\\\Desktop\\\\next_gen_pro\\\\Image_\\\\colorspace.png\")\n",
    "\n",
    "b,g,r=cv2.split(image)\n",
    "cv2.imshow(\"Orginal\",image)\n",
    "cv2.waitKey(0)\n",
    "cv2.imshow(\"Blue\",b)\n",
    "cv2.waitKey(0)\n",
    "cv2.imshow(\"green\",g)\n",
    "cv2.waitKey(0)\n",
    "cv2.imshow(\"Red\",r)\n",
    "cv2.waitKey(0)\n",
    "cv2.destroyAllWindows()\n"
   ]
  },
  {
   "cell_type": "markdown",
   "id": "ef60bc26",
   "metadata": {},
   "source": [
    "# Arithmetic Operations on Images using OpenCV | Set-1 (Addition and Subtraction)"
   ]
  },
  {
   "cell_type": "code",
   "execution_count": null,
   "id": "da7d015e",
   "metadata": {},
   "outputs": [],
   "source": [
    "#Addition of Image\n",
    "ari1=cv2.imread(\"C:\\\\Users\\\\Akshay\\\\OneDrive\\\\Desktop\\\\next_gen_pro\\\\Image_\\\\ari_op1.jpg\")\n",
    "cv2.imshow(\"qwerty\",ari1)\n",
    "cv2.waitKey(0)\n",
    "ari2=cv2.imread(\"C:\\\\Users\\\\Akshay\\\\OneDrive\\\\Desktop\\\\next_gen_pro\\\\Image_\\\\ari_op2.jpg\")\n",
    "cv2.imshow(\"qw__erty\",ari2)\n",
    "cv2.waitKey(0)\n",
    "weightedsum=cv2.addWeighted(ari1,.5,ari2,.5,0)\n",
    "cv2.imshow('Weighted image',weightedsum)\n",
    "cv2.waitKey(0)"
   ]
  },
  {
   "cell_type": "code",
   "execution_count": null,
   "id": "2038bdf9",
   "metadata": {},
   "outputs": [],
   "source": [
    "#Subtraction of Image\n",
    "sub=cv2.subtract(ari1,ari2)\n",
    "cv2.imshow('Subtracted Image', sub)\n",
    "cv2.waitKey(0)"
   ]
  },
  {
   "cell_type": "markdown",
   "id": "9b7912ff",
   "metadata": {},
   "source": [
    "# Arithmetic Operations on Images using OpenCV | Set-2 (Bitwise Operations on Binary Images)"
   ]
  },
  {
   "cell_type": "code",
   "execution_count": null,
   "id": "c4070f5f",
   "metadata": {},
   "outputs": [],
   "source": [
    "#Bitwise AND operation on Image\n",
    "img1=cv2.imread(\"C:\\\\Users\\\\Akshay\\\\OneDrive\\\\Desktop\\\\next_gen_pro\\\\Image_\\\\bit1.png\")\n",
    "img2=cv2.imread(\"C:\\\\Users\\\\Akshay\\\\OneDrive\\\\Desktop\\\\next_gen_pro\\\\Image_\\\\bit2.png\")\n",
    "bitwise_and=cv2.bitwise_and(img1,img2)\n",
    "cv2.imshow(\"Bitwise and\",bitwise_and)\n",
    "cv2.waitKey(0)"
   ]
  },
  {
   "cell_type": "code",
   "execution_count": null,
   "id": "1ab78c3a",
   "metadata": {},
   "outputs": [],
   "source": [
    "#Bitwise OR operation on Image:\n",
    "bitwise_or=cv2.bitwise_or(img1,img2)\n",
    "cv2.imshow(\"Bitwise or\",bitwise_or)\n",
    "cv2.waitKey(0)"
   ]
  },
  {
   "cell_type": "code",
   "execution_count": null,
   "id": "14c00f93",
   "metadata": {},
   "outputs": [],
   "source": [
    "#Bitwise XOR operation on Image\n",
    "bitwise_xor = cv2.bitwise_xor(img1, img2)\n",
    "cv2.imshow(\"Bitwise xor\",bitwise_xor)\n",
    "cv2.waitKey(0)"
   ]
  },
  {
   "cell_type": "code",
   "execution_count": null,
   "id": "388a4d0f",
   "metadata": {},
   "outputs": [],
   "source": [
    "#Bitwise NOT operation on Image\n",
    "bitwise_not=cv2.bitwise_not(img1,img2)\n",
    "cv2.imshow(\"Bitwise not\",bitwise_not)\n",
    "cv2.waitKey(0)"
   ]
  },
  {
   "cell_type": "markdown",
   "id": "9e62f6ec",
   "metadata": {},
   "source": [
    "# Drawing in an image"
   ]
  },
  {
   "cell_type": "code",
   "execution_count": null,
   "id": "44c01781",
   "metadata": {},
   "outputs": [],
   "source": [
    "import cv2\n",
    "img=cv2.imread(\"C:\\\\Users\\\\Akshay\\\\OneDrive\\\\Desktop\\\\next_gen_pro\\\\Image_\\\\bit2.png\")\n",
    "Name=\"Image\"\n",
    "center_coordinates=(90,90)\n",
    "radius=20\n",
    "color=(123,23,54)\n",
    "#when thickness is negative circle will be filled and when thickness is possitive there will only be border.\n",
    "thickness=-78\n",
    "image=cv2.circle(img,center_coordinates,radius,color,thickness)\n",
    "cv2.imshow(Name,image)\n",
    "cv2.waitKey(0)"
   ]
  },
  {
   "cell_type": "markdown",
   "id": "5f920f2a",
   "metadata": {},
   "source": [
    "# Visualizing image in different color spaces"
   ]
  },
  {
   "cell_type": "code",
   "execution_count": null,
   "id": "476c4b3c",
   "metadata": {},
   "outputs": [],
   "source": [
    "import matplotlib.pyplot as plt\n",
    "plt.imshow(img)\n"
   ]
  },
  {
   "cell_type": "code",
   "execution_count": null,
   "id": "2e27a5cf",
   "metadata": {},
   "outputs": [],
   "source": [
    "img=cv2.cvtColor(bigger,cv2.COLOR_BGR2GRAY)\n",
    "cv2.imshow('Image',img)\n",
    "cv2.waitKey(0)"
   ]
  },
  {
   "cell_type": "code",
   "execution_count": null,
   "id": "12b64672",
   "metadata": {},
   "outputs": [],
   "source": [
    "img=cv2.cvtColor(bigger,cv2.COLOR_BGR2YCrCb)\n",
    "cv2.imshow('Image',img)\n",
    "cv2.waitKey(0)"
   ]
  },
  {
   "cell_type": "code",
   "execution_count": null,
   "id": "3b53d763",
   "metadata": {},
   "outputs": [],
   "source": [
    "image=cv2.imread(\"C:\\\\Users\\\\Akshay\\\\OneDrive\\\\Desktop\\\\next_gen_pro\\\\Image_\\\\bit2.png\")\n",
    "name=\"Rectangle_rose\"\n",
    "start_point=(10,10)\n",
    "end_point=(400,400)\n",
    "thickness=3\n",
    "img=cv2.rectangle(image,start_point,end_point,color,thickness)\n",
    "cv2.imshow(name,img)\n",
    "cv2.waitKey(0)"
   ]
  },
  {
   "cell_type": "code",
   "execution_count": null,
   "id": "1de14ad9",
   "metadata": {},
   "outputs": [],
   "source": [
    "\n",
    "import cv2\n",
    "  \n",
    "# Function to extract frames\n",
    "def FrameCapture(path):\n",
    "      \n",
    "    # Path to video file\n",
    "    vidObj = cv2.VideoCapture(path)\n",
    "  \n",
    "    # Used as counter variable\n",
    "    count = 0\n",
    "  \n",
    "    # checks whether frames were extracted\n",
    "    success = 1\n",
    "  \n",
    "    while success:\n",
    "  \n",
    "        # vidObj object calls read\n",
    "        # function extract frames\n",
    "        success, image = vidObj.read()\n",
    "  \n",
    "        # Saves the frames with frame-count\n",
    "        cv2.imwrite(\"frame%d.jpg\" % count, image)\n",
    "  \n",
    "        count += 1\n",
    "  \n",
    "# Driver Code\n",
    "if __name__ == '__main__':\n",
    "  \n",
    "    # Calling the function\n",
    "    FrameCapture(\"C:\\\\Users\\\\Akshay\\\\OneDrive\\\\Desktop\\\\next_gen_pro\\\\Image_\\\\Video.mp4\")"
   ]
  },
  {
   "cell_type": "markdown",
   "id": "27dcc24b",
   "metadata": {},
   "source": [
    "# Program to extract frames using OpenCV"
   ]
  },
  {
   "cell_type": "code",
   "execution_count": null,
   "id": "dfaf0e08",
   "metadata": {},
   "outputs": [],
   "source": [
    "# Program To Read video\n",
    "# and Extract Frames\n",
    "import cv2\n",
    "\n",
    "# Function to extract frames\n",
    "def FrameCapture():\n",
    "    \n",
    "    # Path to video file\n",
    "    vidObj = cv2.VideoCapture(\"C:\\\\Users\\\\Akshay\\\\OneDrive\\\\Desktop\\\\next_gen_pro\\\\Image_\\\\Video.mp4\")\n",
    "\n",
    "    # Used as counter variable\n",
    "    count = 0\n",
    "\n",
    "    # checks whether frames were extracted\n",
    "    success = 1\n",
    "\n",
    "    while success:\n",
    "        # vidObj object calls read\n",
    "        # function extract frames\n",
    "        success, image = vidObj.read()\n",
    "\n",
    "        # Saves the frames with frame-count\n",
    "        #cv2.imwrite(\"frame%d.jpg\" % count, image)\n",
    "        cv2.imshow(\"frame\",image)\n",
    "        cv2.waitKey(1)\n",
    "\n",
    "        count += 1\n",
    "FrameCapture()"
   ]
  },
  {
   "cell_type": "code",
   "execution_count": null,
   "id": "49602188",
   "metadata": {},
   "outputs": [],
   "source": []
  }
 ],
 "metadata": {
  "kernelspec": {
   "display_name": "Python 3",
   "language": "python",
   "name": "python3"
  },
  "language_info": {
   "codemirror_mode": {
    "name": "ipython",
    "version": 3
   },
   "file_extension": ".py",
   "mimetype": "text/x-python",
   "name": "python",
   "nbconvert_exporter": "python",
   "pygments_lexer": "ipython3",
   "version": "3.6.5"
  }
 },
 "nbformat": 4,
 "nbformat_minor": 5
}
